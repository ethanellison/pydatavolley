{
 "cells": [
  {
   "cell_type": "code",
   "execution_count": null,
   "metadata": {},
   "outputs": [],
   "source": [
    "from datavolley import read_dv\n",
    "import datavolley.pycourtZones as pycourt\n",
    "import pandas as pd\n",
    "from shapely.geometry import Point, Polygon\n",
    "import matplotlib.pyplot as plt"
   ]
  },
  {
   "cell_type": "code",
   "execution_count": null,
   "metadata": {},
   "outputs": [],
   "source": [
    "dvf = read_dv.DataVolley()\n",
    "plays = dvf.get_plays()"
   ]
  },
  {
   "cell_type": "code",
   "execution_count": null,
   "metadata": {},
   "outputs": [],
   "source": [
    "# Crea una griglia di subplot con una riga e due colonne\n",
    "fig, axs = plt.subplots(1, 2, figsize=(10, 5))\n",
    "\n",
    "#Chiamata squadra 1\n",
    "\n",
    "subset_plays = plays.loc[plays['team'] == 'University of Dayton']\n",
    "\n",
    "coordinate_pairs = [(x, y) for x, y in zip(subset_plays['end_coordinate_x'], subset_plays['end_coordinate_y']) if pd.notna(x) and pd.notna(y)]\n",
    "pycourt.pycourtZones(coordinate_pairs, ax=axs[0])\n",
    "\n",
    "\n",
    "\n",
    "axs[0].set_title('University of Dayton')  # Aggiungi un titolo al subplot\n",
    "axs[0].set_xticks([])  \n",
    "axs[0].set_yticks([])  \n",
    "\n",
    "#Chiamata squadra 2\n",
    "\n",
    "subset_plays = plays.loc[plays['team'] == 'University of Louisville']\n",
    "\n",
    "coordinate_pairs = [(x, y) for x, y in zip(subset_plays['end_coordinate_x'], subset_plays['end_coordinate_y']) if pd.notna(x) and pd.notna(y)]\n",
    "pycourt.pycourtZones(coordinate_pairs, ax=axs[1], invert_y=True)\n",
    "\n",
    "axs[1].set_title('University of Louisville')  # Aggiungi un titolo al subplot\n",
    "axs[1].set_xticks([])  \n",
    "axs[1].set_yticks([]) \n",
    "\n",
    "\n",
    " # Aggiunge spaziatura tra i subplot per evitare sovrapposizioni\n",
    "plt.show()\n",
    "\n",
    "\n",
    "\n",
    "\n"
   ]
  },
  {
   "cell_type": "code",
   "execution_count": null,
   "metadata": {},
   "outputs": [],
   "source": [
    "# Crea una griglia di subplot con una riga e due colonne\n",
    "fig, axs = plt.subplots(1, 2, figsize=(10, 5))\n",
    "\n",
    "#Chiamata squadra 1\n",
    "\n",
    "subset_plays = plays.loc[plays['team'] == 'University of Dayton']\n",
    "\n",
    "coordinate_pairs = [(x, y) for x, y in zip(subset_plays['end_coordinate_x'], subset_plays['end_coordinate_y']) if pd.notna(x) and pd.notna(y)]\n",
    "pycourt.pycourtSubZones(coordinate_pairs, ax=axs[0])\n",
    "\n",
    "\n",
    "\n",
    "axs[0].set_title('University of Dayton')  # Aggiungi un titolo al subplot\n",
    "axs[0].set_xticks([])  \n",
    "axs[0].set_yticks([])  \n",
    "\n",
    "#Chiamata squadra 2\n",
    "\n",
    "subset_plays = plays.loc[plays['team'] == 'University of Louisville']\n",
    "\n",
    "coordinate_pairs = [(x, y) for x, y in zip(subset_plays['end_coordinate_x'], subset_plays['end_coordinate_y']) if pd.notna(x) and pd.notna(y)]\n",
    "pycourt.pycourtSubZones(coordinate_pairs, ax=axs[1], invert_y=True)\n",
    "\n",
    "axs[1].set_title('University of Louisville')  # Aggiungi un titolo al subplot\n",
    "axs[1].set_xticks([])  \n",
    "axs[1].set_yticks([]) \n",
    "\n",
    "\n",
    " # Aggiunge spaziatura tra i subplot per evitare sovrapposizioni\n",
    "plt.show()\n"
   ]
  }
 ],
 "metadata": {
  "kernelspec": {
   "display_name": "base",
   "language": "python",
   "name": "python3"
  },
  "language_info": {
   "codemirror_mode": {
    "name": "ipython",
    "version": 3
   },
   "file_extension": ".py",
   "mimetype": "text/x-python",
   "name": "python",
   "nbconvert_exporter": "python",
   "pygments_lexer": "ipython3",
   "version": "3.11.4"
  }
 },
 "nbformat": 4,
 "nbformat_minor": 2
}
