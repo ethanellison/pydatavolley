{
 "cells": [
  {
   "cell_type": "code",
   "execution_count": 25,
   "metadata": {},
   "outputs": [],
   "source": [
    "from datavolley import read_dv\n",
    "import pandas as pd\n",
    "from datetime import datetime"
   ]
  },
  {
   "cell_type": "code",
   "execution_count": 26,
   "metadata": {},
   "outputs": [],
   "source": [
    "import urllib.request\n",
    "datavolleyfile=\"&stuttgart-schwerin-2018.dvw\"\n",
    "url_source_file = \"https://raw.githubusercontent.com/openvolley/ovva/master/inst/extdata/demo/%26stuttgart-schwerin-2018.dvw\"\n",
    "source = urllib.request.urlopen(url_source_file).read().decode('UTF-8')\n",
    "# Scrittura dei dati in un file locale\n",
    "with open(datavolleyfile, 'w') as file:\n",
    "    file.write(source)"
   ]
  },
  {
   "cell_type": "code",
   "execution_count": 27,
   "metadata": {},
   "outputs": [],
   "source": [
    "# change this if you have your file\n",
    "datavolleyfile=\"&stuttgart-schwerin-2018.dvw\"\n",
    "\n",
    "# Reading the file\n",
    "dvf = read_dv.DataVolley(datavolleyfile)\n",
    "# extract all the actions\n",
    "plays = dvf.get_plays()"
   ]
  },
  {
   "cell_type": "code",
   "execution_count": 28,
   "metadata": {},
   "outputs": [],
   "source": [
    "championship = dvf.match_info.championship\n",
    "match_day = dvf.match_info.day\n",
    "match_time = dvf.match_info.time\n",
    "match_time = datetime.strptime(match_time, \"%H.%M.%S\").strftime(\"%H:%M\")\n",
    "match_season = dvf.match_info.season"
   ]
  },
  {
   "cell_type": "code",
   "execution_count": 29,
   "metadata": {},
   "outputs": [],
   "source": [
    "total_minutes = dvf.sets_info.duration.sum()\n",
    "hours = total_minutes // 60\n",
    "minutes = total_minutes % 60"
   ]
  },
  {
   "cell_type": "code",
   "execution_count": 30,
   "metadata": {},
   "outputs": [],
   "source": [
    "string_sets = \"\"\n",
    "duraton_sets = \"\"\n",
    "for idx, row in dvf.sets_info.iterrows():\n",
    "   string_sets += \"(\" + str(row[\"home4\"]) + \"-\" + str(row[\"visitor4\"]) + \") \"\n",
    "   duraton_sets += str(row[\"duration\"]) + \"',\""
   ]
  },
  {
   "cell_type": "code",
   "execution_count": 31,
   "metadata": {},
   "outputs": [
    {
     "data": {
      "text/html": [
       "<div>\n",
       "<style scoped>\n",
       "    .dataframe tbody tr th:only-of-type {\n",
       "        vertical-align: middle;\n",
       "    }\n",
       "\n",
       "    .dataframe tbody tr th {\n",
       "        vertical-align: top;\n",
       "    }\n",
       "\n",
       "    .dataframe thead th {\n",
       "        text-align: right;\n",
       "    }\n",
       "</style>\n",
       "<table border=\"1\" class=\"dataframe\">\n",
       "  <thead>\n",
       "    <tr style=\"text-align: right;\">\n",
       "      <th></th>\n",
       "      <th>set</th>\n",
       "      <th>home1</th>\n",
       "      <th>visitor1</th>\n",
       "      <th>home2</th>\n",
       "      <th>visitor2</th>\n",
       "      <th>home3</th>\n",
       "      <th>visitor3</th>\n",
       "      <th>home4</th>\n",
       "      <th>visitor4</th>\n",
       "      <th>duration</th>\n",
       "    </tr>\n",
       "  </thead>\n",
       "  <tbody>\n",
       "    <tr>\n",
       "      <th>0</th>\n",
       "      <td>1</td>\n",
       "      <td>8</td>\n",
       "      <td>5</td>\n",
       "      <td>16</td>\n",
       "      <td>10</td>\n",
       "      <td>21</td>\n",
       "      <td>14</td>\n",
       "      <td>25</td>\n",
       "      <td>21</td>\n",
       "      <td>27</td>\n",
       "    </tr>\n",
       "    <tr>\n",
       "      <th>1</th>\n",
       "      <td>2</td>\n",
       "      <td>5</td>\n",
       "      <td>8</td>\n",
       "      <td>13</td>\n",
       "      <td>16</td>\n",
       "      <td>16</td>\n",
       "      <td>21</td>\n",
       "      <td>22</td>\n",
       "      <td>25</td>\n",
       "      <td>29</td>\n",
       "    </tr>\n",
       "    <tr>\n",
       "      <th>2</th>\n",
       "      <td>3</td>\n",
       "      <td>8</td>\n",
       "      <td>6</td>\n",
       "      <td>15</td>\n",
       "      <td>16</td>\n",
       "      <td>21</td>\n",
       "      <td>20</td>\n",
       "      <td>22</td>\n",
       "      <td>25</td>\n",
       "      <td>30</td>\n",
       "    </tr>\n",
       "    <tr>\n",
       "      <th>3</th>\n",
       "      <td>4</td>\n",
       "      <td>8</td>\n",
       "      <td>5</td>\n",
       "      <td>16</td>\n",
       "      <td>13</td>\n",
       "      <td>21</td>\n",
       "      <td>17</td>\n",
       "      <td>25</td>\n",
       "      <td>21</td>\n",
       "      <td>30</td>\n",
       "    </tr>\n",
       "    <tr>\n",
       "      <th>4</th>\n",
       "      <td>5</td>\n",
       "      <td>4</td>\n",
       "      <td>5</td>\n",
       "      <td>10</td>\n",
       "      <td>7</td>\n",
       "      <td>12</td>\n",
       "      <td>9</td>\n",
       "      <td>12</td>\n",
       "      <td>15</td>\n",
       "      <td>21</td>\n",
       "    </tr>\n",
       "  </tbody>\n",
       "</table>\n",
       "</div>"
      ],
      "text/plain": [
       "   set  home1  visitor1  home2  visitor2  home3  visitor3  home4  visitor4  \\\n",
       "0    1      8         5     16        10     21        14     25        21   \n",
       "1    2      5         8     13        16     16        21     22        25   \n",
       "2    3      8         6     15        16     21        20     22        25   \n",
       "3    4      8         5     16        13     21        17     25        21   \n",
       "4    5      4         5     10         7     12         9     12        15   \n",
       "\n",
       "   duration  \n",
       "0        27  \n",
       "1        29  \n",
       "2        30  \n",
       "3        30  \n",
       "4        21  "
      ]
     },
     "execution_count": 31,
     "metadata": {},
     "output_type": "execute_result"
    }
   ],
   "source": [
    "dvf.sets_info"
   ]
  },
  {
   "cell_type": "code",
   "execution_count": 32,
   "metadata": {},
   "outputs": [],
   "source": [
    "duration_sets = duraton_sets.rstrip(\",\")"
   ]
  },
  {
   "cell_type": "code",
   "execution_count": 33,
   "metadata": {},
   "outputs": [
    {
     "name": "stdout",
     "output_type": "stream",
     "text": [
      "\n",
      "21/04/2018 - 19:30\n",
      "1. Bundesliga Frauen - 1. Bundesliga Frauen - Playoffs\n",
      "Allianz MTV Stuttgart - SSC Palmberg Schwerin \n",
      "2-3 (25-21) (22-25) (22-25) (25-21) (12-15) \n",
      "duration: 02:17h (27',29',30',30',21')\n",
      "\n"
     ]
    }
   ],
   "source": [
    "print(\"\"\"\n",
    "%s - %s\n",
    "%s\n",
    "%s - %s \n",
    "%s-%s %s\n",
    "duration: %s:%sh (%s)\n",
    "\"\"\" % (match_day, match_time, championship, dvf.home_team, \n",
    "       dvf.visiting_team, dvf.home_setswon, dvf.visiting_setswon,\n",
    "       string_sets,str(hours).zfill(2), str(minutes).zfill(2), duration_sets))\n"
   ]
  },
  {
   "cell_type": "code",
   "execution_count": 34,
   "metadata": {},
   "outputs": [
    {
     "name": "stdout",
     "output_type": "stream",
     "text": [
      "Allianz MTV Stuttgart\n",
      "name\tname\n",
      "1\tNikoleta Perovic (21,3)\n",
      "2\tFemke Stoltenborg (2,1)\n",
      "3\tMicheli Tomazela Pissinato (0,0)\n",
      "5\tMallory Grace McCage (16,4)\n",
      "6\tAnnie Cesar (0,2)\n",
      "7\tRenata Sandor (12,10)\n",
      "8\tJulia Schaefer (1,1)\n",
      "10\tPia KÃ¤stner (1,0)\n",
      "11\tTeodora Pusic (0,0)\n",
      "12\tDeborah van Daelen (5,3)\n",
      "14\tJenna Potts (0,0)\n",
      "16\tMichaela Mlejnkova (18,5)\n",
      "17\tPaige Tapp (7,2)\n",
      "coaches\n",
      " Athanasopoulos Giannis\n",
      " Paraschidis I, Miyashiro T\n",
      "\n",
      "in parentheses: number of points, number of errors\n"
     ]
    }
   ],
   "source": [
    "print(dvf.home_team)\n",
    "print(\"name\\tname\")\n",
    "players = dvf.players_home\n",
    "players['player_number'] = pd.to_numeric(players['player_number'], errors='coerce')\n",
    "players = players.sort_values(\"player_number\")\n",
    "plays = dvf.get_plays()\n",
    "for idx, row in players.iterrows():\n",
    "    player_number = row[\"player_number\"]\n",
    "    player_name = row['player_name'].rstrip()\n",
    "    player_id = row['player_id']\n",
    "    points = plays[(plays.player_id == player_id) & plays.skill.isin(['Attack', 'Serve','Block']) & (plays.evaluation_code == \"#\")].shape[0]\n",
    "    errors = plays[(plays.player_id == player_id) & plays.skill.isin(['Attack', 'Reception','Dig','Set','Block']) & (plays.evaluation_code == \"=\")].shape[0]\n",
    "    print(\"\"\"%s\\t%s (%i,%i)\"\"\" % (player_number,player_name, points, errors))\n",
    "print(\"coaches\")\n",
    "print(\" \" + dvf.home_coaches[0])\n",
    "print(\" \" + dvf.home_coaches[1])\n",
    "print(\"\\nin parentheses: number of points, number of errors\")"
   ]
  },
  {
   "cell_type": "code",
   "execution_count": 35,
   "metadata": {},
   "outputs": [
    {
     "data": {
      "text/plain": [
       "'Athanasopoulos Giannis'"
      ]
     },
     "execution_count": 35,
     "metadata": {},
     "output_type": "execute_result"
    }
   ],
   "source": [
    "dvf.home_coaches[0]"
   ]
  },
  {
   "cell_type": "code",
   "execution_count": 36,
   "metadata": {},
   "outputs": [
    {
     "name": "stdout",
     "output_type": "stream",
     "text": [
      "SSC Palmberg Schwerin\n",
      "name\tname\n",
      "1\tGreta SzakmÃ¡ry (25,8)\n",
      "2\tMartenne Julia Bettendorf (0,0)\n",
      "3\tLouisa Lippmann (20,9)\n",
      "5\tSabrina Krause (0,0)\n",
      "6\tJennifer Geerties (11,5)\n",
      "7\tLuna Veronica Carocci (0,3)\n",
      "8\tKaisa Alanko (1,1)\n",
      "10\tDenise Hanke (6,4)\n",
      "11\tBeta Dumancic (12,0)\n",
      "12\tLauren Barfield (9,0)\n",
      "14\tElisa Lohmann (0,0)\n",
      "15\tJelena Oluic (2,0)\n",
      "16\tMarie SchÃ¶lzel (0,0)\n",
      "coaches\n",
      " Koslowski Felix\n",
      " Hartmann M, Sens P\n",
      "\n",
      "in parentheses: number of points, number of errors\n"
     ]
    }
   ],
   "source": [
    "print(dvf.visiting_team)\n",
    "print(\"name\\tname\")\n",
    "players = dvf.players_visiting\n",
    "players['player_number'] = pd.to_numeric(players['player_number'], errors='coerce')\n",
    "players = players.sort_values(\"player_number\")\n",
    "plays = dvf.get_plays()\n",
    "for idx, row in players.iterrows():\n",
    "    player_number = row[\"player_number\"]\n",
    "    player_name = row['player_name'].rstrip()\n",
    "    player_id = row['player_id']\n",
    "    points = plays[(plays.player_id == player_id) & plays.skill.isin(['Attack', 'Serve','Block']) & (plays.evaluation_code == \"#\")].shape[0]\n",
    "    errors = plays[(plays.player_id == player_id) & plays.skill.isin(['Attack', 'Reception','Dig','Set','Block']) & (plays.evaluation_code == \"=\")].shape[0]\n",
    "    print(\"\"\"%s\\t%s (%i,%i)\"\"\" % (player_number,player_name, points, errors))\n",
    "print(\"coaches\")\n",
    "print(\" \" + dvf.visiting_coaches[0])\n",
    "print(\" \" + dvf.visiting_coaches[1])\n",
    "print(\"\\nin parentheses: number of points, number of errors\")"
   ]
  }
 ],
 "metadata": {
  "kernelspec": {
   "display_name": "Python 3",
   "language": "python",
   "name": "python3"
  },
  "language_info": {
   "codemirror_mode": {
    "name": "ipython",
    "version": 3
   },
   "file_extension": ".py",
   "mimetype": "text/x-python",
   "name": "python",
   "nbconvert_exporter": "python",
   "pygments_lexer": "ipython3",
   "version": "3.11.6"
  }
 },
 "nbformat": 4,
 "nbformat_minor": 2
}
